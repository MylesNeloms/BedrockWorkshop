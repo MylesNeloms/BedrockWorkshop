{
 "cells": [
  {
   "cell_type": "code",
   "execution_count": 4,
   "id": "96c3a38e-d8b6-47ef-ac56-50a984326ac0",
   "metadata": {},
   "outputs": [
    {
     "name": "stdout",
     "output_type": "stream",
     "text": [
      "Here's how you can explain to an 8-year-old how chickens swim, using two paragraphs:\n",
      "\n",
      "Paragraph 1:\n",
      "Chickens are birds, and they are not really built for swimming. Their bodies are covered in feathers, which are lightweight and help them fly, but they can get heavy and waterlogged when wet. Chickens also have small, scaly legs and feet, which are designed for walking and scratching the ground, not paddling through water. However, in some situations, chickens may find themselves in water and need to swim to safety.\n",
      "\n",
      "Paragraph 2:\n",
      "When a chicken ends up in water, it will use its wings to help it stay afloat and move forward. The chicken will flap its wings rapidly, creating a paddling motion that propels it through the water. Its feet will also kick and help with the swimming motion. Chickens can swim for short distances, but they quickly become tired and need to get out of the water. If they are in a pond or a shallow body of water, they may be able to walk or run along the bottom to get to the edge and climb out. Chickens are not very good swimmers, but they can manage to swim for a little while if they need to.\n"
     ]
    }
   ],
   "source": [
    "# Helper funcitons like these are important because the input format varies between the provided models\n",
    "# Using the below 'helper' function we can account for changes to the input JSON\n",
    "\n",
    "import json\n",
    "import boto3\n",
    "\n",
    "def invoke_model(client, prompt, model, \n",
    "    accept = 'application/json', content_type = 'application/json',\n",
    "    max_tokens  = 512, temperature = 1.0, top_p = 1.0, top_k = 250, stop_sequences = [],\n",
    "    count_penalty = 0, presence_penalty = 0, frequency_penalty = 0, return_likelihoods = 'NONE'):\n",
    "    # default response\n",
    "    output = ''\n",
    "    # identify the model provider\n",
    "    provider = model.split('.')[0] \n",
    "    # InvokeModel\n",
    "    if (provider == 'anthropic'): \n",
    "        user_message = {'role': 'user', 'content': prompt}\n",
    "        messages = [user_message]\n",
    "        input = {\n",
    "            'anthropic_version': 'bedrock-2023-05-31',\n",
    "            'system': '',\n",
    "            'messages': messages,\n",
    "            'max_tokens': max_tokens, \n",
    "            'temperature': temperature,\n",
    "            'top_k': top_k,\n",
    "            'top_p': top_p,\n",
    "            'stop_sequences': stop_sequences\n",
    "        }\n",
    "        body = json.dumps(input)\n",
    "        response = client.invoke_model(body=body, modelId=model, accept=accept, contentType=content_type)\n",
    "        response_body = json.loads(response.get('body').read())\n",
    "        completions = response_body['content']\n",
    "        for part in completions:\n",
    "            output = output + part['text']\n",
    "    elif (provider == 'ai21'): \n",
    "        input = {\n",
    "            'prompt': prompt, \n",
    "            'maxTokens': max_tokens,\n",
    "            'temperature': temperature,\n",
    "            'topP': top_p,\n",
    "            'stopSequences': stop_sequences,\n",
    "            'countPenalty': {'scale': count_penalty},\n",
    "            'presencePenalty': {'scale': presence_penalty},\n",
    "            'frequencyPenalty': {'scale': frequency_penalty}\n",
    "        }\n",
    "        body = json.dumps(input)\n",
    "        response = client.invoke_model(body=body, modelId=model, accept=accept, contentType=content_type)\n",
    "        response_body = json.loads(response.get('body').read())\n",
    "        completions = response_body['completions']\n",
    "        for part in completions:\n",
    "            output = output + part['data']['text']\n",
    "    elif (provider == 'amazon'): \n",
    "        input = {\n",
    "            'inputText': prompt,\n",
    "            'textGenerationConfig': {\n",
    "                  'maxTokenCount': max_tokens,\n",
    "                  'stopSequences': stop_sequences,\n",
    "                  'temperature': temperature,\n",
    "                  'topP': top_p\n",
    "            }\n",
    "        }\n",
    "        body = json.dumps(input)\n",
    "        response = client.invoke_model(body=body, modelId=model, accept=accept, contentType=content_type)\n",
    "        response_body = json.loads(response.get('body').read())\n",
    "        results = response_body['results']\n",
    "        for result in results:\n",
    "            output = output + result['outputText']\n",
    "    elif (provider == 'cohere'): \n",
    "        input = {\n",
    "            'prompt': prompt, \n",
    "            'max_tokens': max_tokens,\n",
    "            'temperature': temperature,\n",
    "            'k': top_k,\n",
    "            'p': top_p,\n",
    "            'stop_sequences': stop_sequences,\n",
    "            'return_likelihoods': return_likelihoods\n",
    "        }\n",
    "        body = json.dumps(input)\n",
    "        response = client.invoke_model(body=body, modelId=model, accept=accept, contentType=content_type)\n",
    "        response_body = json.loads(response.get('body').read())\n",
    "        results = response_body['generations']\n",
    "        for result in results:\n",
    "            output = output + result['text']\n",
    "    elif (provider == 'meta'): \n",
    "        input = {\n",
    "            'prompt': prompt,\n",
    "            'max_gen_len': max_tokens,\n",
    "            'temperature': temperature,\n",
    "            'top_p': top_p\n",
    "        }\n",
    "        body = json.dumps(input)\n",
    "        response = client.invoke_model(body=body, modelId=model, accept=accept, contentType=content_type)\n",
    "        response_body = json.loads(response.get('body').read())\n",
    "        output = response_body['generation']\n",
    "    # return\n",
    "    return output\n",
    "\n",
    "# main function\n",
    "bedrock = boto3.client(\n",
    "    service_name='bedrock-runtime'\n",
    ")\n",
    "model  = 'anthropic.claude-3-sonnet-20240229-v1:0'\n",
    "prompt = \"\"\"\n",
    "Explain how chicken swim to an 8 year old using 2 paragraphs.\n",
    "\"\"\"\n",
    "output = invoke_model(client=bedrock, prompt=prompt, model=model)\n",
    "print(output)\n"
   ]
  },
  {
   "cell_type": "code",
   "execution_count": 2,
   "id": "5cb83335-0a7f-4b2f-96dc-0ef23aa7d609",
   "metadata": {},
   "outputs": [
    {
     "name": "stdout",
     "output_type": "stream",
     "text": [
      "Birds are noted for their flying prowess, and for good reason. But have you noticed that some birds also are powerful swimmers? Chickens are kind of funny though; when they swim, they sort of move their chicken feet up and down quickly, so they can \"swim\" across the water. If they need to get to shore from a boat, they will often use their chicken feet to paddle to the riverbank. Chickens have no wings and no arms, so of course they can't fly. But their chickens feet are so strong and clever, they can swim by themselves!\n"
     ]
    }
   ],
   "source": [
    "# Changing the model\n",
    "model  = 'ai21.j2-ultra'\n",
    "prompt = \"\"\"\n",
    "Explain how chicken swim to an 8 year old using 2 paragraphs.\n",
    "\"\"\"\n",
    "output = invoke_model(client=bedrock, prompt=prompt, model=model, temperature=0.9)\n",
    "print(output)\n"
   ]
  },
  {
   "cell_type": "code",
   "execution_count": 3,
   "id": "a36d3888-0f18-4ce5-a72e-f6a6bba51860",
   "metadata": {},
   "outputs": [
    {
     "name": "stdout",
     "output_type": "stream",
     "text": [
      "Chickens are birds, and birds normally don't swim. However, some species of chickens are good at swimming. They may look like typical chickens, but they have waterproof feathers and webbed feet. These feathers and webbed feet help the chickens to paddle and move through the water. When these chickens need to swim, they flap their wings and create strong currents that propel them forward. They also use their webbed feet to kick and swim through the water.\n"
     ]
    }
   ],
   "source": [
    "# Adding Parameters for LLM\n",
    "\n",
    "model  = 'ai21.j2-ultra'\n",
    "prompt = \"\"\"\n",
    "Explain how chicken swim to an 8 year old using 2 paragraphs.\n",
    "\"\"\"\n",
    "output = invoke_model(client=bedrock, prompt=prompt, model=model, temperature=0.9)\n",
    "print(output)"
   ]
  },
  {
   "cell_type": "code",
   "execution_count": 12,
   "id": "ea605275-47e4-4e9b-8766-675501c3e581",
   "metadata": {},
   "outputs": [
    {
     "name": "stdout",
     "output_type": "stream",
     "text": [
      "Some house pets with four legs are dogs, cats, and hamsters.\n"
     ]
    }
   ],
   "source": [
    "# Parameter Tuning\n",
    "\n",
    "# main function\n",
    "bedrock = boto3.client(\n",
    "    service_name='bedrock-runtime'\n",
    ")\n",
    "\n",
    "model  = 'ai21.j2-ultra'\n",
    "prompt = \"\"\"\n",
    "Name a few house pets with 4 legs.\n",
    "\"\"\"\n",
    "output = invoke_model(\n",
    "    client=bedrock, prompt=prompt, model=model, \n",
    "    temperature=1.0, top_p=1.0, max_tokens=512, stop_sequences=[])\n",
    "print(output)"
   ]
  },
  {
   "cell_type": "code",
   "execution_count": 11,
   "id": "14542525-ff9a-4a50-a6c4-389e8a004bb8",
   "metadata": {},
   "outputs": [
    {
     "name": "stdout",
     "output_type": "stream",
     "text": [
      "Some house pets with four legs are dogs, \n"
     ]
    }
   ],
   "source": [
    "# Adding to Stop Sequences\n",
    "\n",
    "# main function\n",
    "bedrock = boto3.client(\n",
    "    service_name='bedrock-runtime'\n",
    ")\n",
    "\n",
    "model  = 'ai21.j2-ultra'\n",
    "prompt = \"\"\"\n",
    "Name a few house pets with 4 legs.\n",
    "\"\"\"\n",
    "output = invoke_model(\n",
    "    client=bedrock, prompt=prompt, model=model, \n",
    "    temperature=1.0, top_p=1.0, max_tokens=512, stop_sequences=[\"cat\"])\n",
    "print(output)"
   ]
  },
  {
   "cell_type": "code",
   "execution_count": 10,
   "id": "5299b53d-f73f-40ef-ba5b-9ddedd18f3ab",
   "metadata": {},
   "outputs": [
    {
     "name": "stdout",
     "output_type": "stream",
     "text": [
      "Here are a few common house pets with four legs:\n",
      "\n",
      "- Dogs\n",
      "- Cats\n",
      "- Rabbits\n",
      "- Guinea pigs\n",
      "- Ferrets\n",
      "- Hamsters\n",
      "- Gerbils\n",
      "- Rats\n",
      "- Mice\n",
      "- Chinchillas\n",
      "\n",
      "Many small mammals that are kept as pets have four legs. Reptiles like lizards and snakes don't have legs, and birds like parrots have two legs, so they wouldn't be included in this category of four-legged house pets.\n"
     ]
    }
   ],
   "source": [
    "# Adding Paramters (top_k=250) --> Top K defines the cut off where the LLM model no longer selects the words\n",
    "model  = 'anthropic.claude-3-sonnet-20240229-v1:0'\n",
    "prompt = \"\"\"\n",
    "Name a few house pets with 4 legs.\n",
    "\"\"\"\n",
    "output = invoke_model(\n",
    "    client=bedrock, prompt=prompt, model=model, temperature=1.0, top_p=1.0, top_k=250)\n",
    "print(output)\n"
   ]
  },
  {
   "cell_type": "code",
   "execution_count": 14,
   "id": "ac9ce77a-9420-47ee-917a-5af458a4f1dd",
   "metadata": {},
   "outputs": [
    {
     "name": "stdout",
     "output_type": "stream",
     "text": [
      "I first saw the spider when I was walking through my garden\n",
      "A spider is a type of invertebrate animal that is known for its eight legs, and web-spinning abilities. They can be found in a variety of environments, including gardens.\n"
     ]
    }
   ],
   "source": [
    "# 'Zero Shot' prompting. (known for giving a wide variety of outputs, due to unclear directions)\n",
    "model  = 'ai21.j2-ultra'\n",
    "prompt = \"\"\"\n",
    "A spider \n",
    "\"\"\"\n",
    "output = invoke_model(client=bedrock, prompt=prompt, model=model)\n",
    "print(output)\n"
   ]
  },
  {
   "cell_type": "code",
   "execution_count": 15,
   "id": "de3a7a1a-3ce8-4b34-92a3-301dec9445b8",
   "metadata": {},
   "outputs": [
    {
     "name": "stdout",
     "output_type": "stream",
     "text": [
      "A spider is an arthropod that\n",
      " 8\n"
     ]
    }
   ],
   "source": [
    "# 'Zero Shot' prompting. (known for giving a wide variety of outputs, due to unclear directions)\n",
    "model  = 'ai21.j2-ultra'\n",
    "prompt = \"\"\"\n",
    "A spider \n",
    "\"\"\"\n",
    "output = invoke_model(client=bedrock, prompt=prompt, model=model)\n",
    "print(output)"
   ]
  },
  {
   "cell_type": "code",
   "execution_count": 16,
   "id": "16d011c1-d1fe-43aa-b091-bea61147f3ab",
   "metadata": {},
   "outputs": [
    {
     "name": "stdout",
     "output_type": "stream",
     "text": [
      "is an eight-legged creature\n",
      "that is related to insects.\n",
      "Spiders are known for their excellent\n",
      "ability to spin silk webs.\n",
      "Spiders are found all over the world,\n",
      "and they play an important\n",
      "role in the food chain.\n",
      "Spiders can be beneficial\n",
      "to humans, for example, by\n",
      "controlling insect populations.\n",
      "However, some spiders can also\n",
      "be harmful to humans,\n",
      "and some people may be allergic\n",
      "to their venom.\n",
      "As a result, it is important to be\n",
      "cautious around spiders and\n",
      "to seek medical attention if you\n",
      "are bitten or stung by one.\n",
      ".\n",
      "Spiders are commonly found in homes, and they can be a nuisance. It is important to keep spiders out of your home by using screens on windows and doors, and by sealing cracks and crevices. You can also keep spiders away by using insecticides and traps.\n"
     ]
    }
   ],
   "source": [
    "# 'Zero Shot' prompting. (known for giving a wide variety of outputs, due to unclear directions)\n",
    "model  = 'ai21.j2-ultra'\n",
    "prompt = \"\"\"\n",
    "A spider \n",
    "\"\"\"\n",
    "output = invoke_model(client=bedrock, prompt=prompt, model=model)\n",
    "print(output)"
   ]
  },
  {
   "cell_type": "code",
   "execution_count": 17,
   "id": "f6912a60-959f-46a0-9b81-2094fc920a84",
   "metadata": {},
   "outputs": [
    {
     "name": "stdout",
     "output_type": "stream",
     "text": [
      "Has 8 legs.\n"
     ]
    }
   ],
   "source": [
    "# Few-Shot Prompting (Still unclear, but with a pattern. Increases consistency in response)\n",
    "model  = 'ai21.j2-ultra'\n",
    "prompt = \"\"\"\n",
    "A dog has 4 legs.\n",
    "A sheep has 4 legs.\n",
    "A spider\n",
    "\"\"\"\n",
    "\n",
    "output = invoke_model(client=bedrock, prompt=prompt, model=model)\n",
    "print(output)\n"
   ]
  },
  {
   "cell_type": "code",
   "execution_count": 18,
   "id": "458b1860-1c4a-4334-b1e0-900ef9a6ae61",
   "metadata": {},
   "outputs": [
    {
     "name": "stdout",
     "output_type": "stream",
     "text": [
      "A spider is different from sheep and dogs, as it does not have four legs. A spider has eight legs.\n"
     ]
    }
   ],
   "source": [
    "# Few-Shot Prompting (Still unclear, but with a pattern. Increases consistency in response)\n",
    "model  = 'ai21.j2-ultra'\n",
    "prompt = \"\"\"\n",
    "A dog has 4 legs.\n",
    "A sheep has 4 legs.\n",
    "A spider\n",
    "\"\"\"\n",
    "\n",
    "output = invoke_model(client=bedrock, prompt=prompt, model=model)\n",
    "print(output)"
   ]
  },
  {
   "cell_type": "code",
   "execution_count": 19,
   "id": "113e7b30-3a0c-49f5-8172-a367603fe8c3",
   "metadata": {},
   "outputs": [
    {
     "name": "stdout",
     "output_type": "stream",
     "text": [
      "Negative\n"
     ]
    }
   ],
   "source": [
    "model  = 'ai21.j2-ultra'\n",
    "prompt = \"\"\"\n",
    "This is awesome! // Positive\n",
    "This is bad! // Negative\n",
    "Wow that movie was rad! // Positive\n",
    "What a horrible show! //\n",
    "\"\"\"\n",
    "\n",
    "output = invoke_model(client=bedrock, prompt=prompt, model=model)\n",
    "print(output)"
   ]
  },
  {
   "cell_type": "code",
   "execution_count": 20,
   "id": "d2180a48-b4c3-4fcc-bd84-2430555fb227",
   "metadata": {},
   "outputs": [
    {
     "name": "stdout",
     "output_type": "stream",
     "text": [
      "Negative\n"
     ]
    }
   ],
   "source": [
    "model  = 'ai21.j2-ultra'\n",
    "prompt = \"\"\"\n",
    "This is awesome! // Positive\n",
    "This is bad! // Negative\n",
    "Wow that movie was rad! // Positive\n",
    "What a horrible show! //\n",
    "\"\"\"\n",
    "\n",
    "output = invoke_model(client=bedrock, prompt=prompt, model=model)\n",
    "print(output)\n"
   ]
  },
  {
   "cell_type": "code",
   "execution_count": 21,
   "id": "47efa8b0-37df-4c91-9318-4b63663184df",
   "metadata": {},
   "outputs": [
    {
     "name": "stdout",
     "output_type": "stream",
     "text": [
      "Negative\n"
     ]
    }
   ],
   "source": [
    "model  = 'ai21.j2-ultra'\n",
    "prompt = \"\"\"\n",
    "This is awesome! // Positive\n",
    "This is bad! // Negative\n",
    "Wow that movie was rad! // Positive\n",
    "What a horrible show! //\n",
    "\"\"\"\n",
    "\n",
    "output = invoke_model(client=bedrock, prompt=prompt, model=model)\n",
    "print(output)"
   ]
  },
  {
   "cell_type": "code",
   "execution_count": 23,
   "id": "e43bf04b-6232-4654-806b-42ec1e696df8",
   "metadata": {},
   "outputs": [
    {
     "name": "stdout",
     "output_type": "stream",
     "text": [
      "Positive\n"
     ]
    }
   ],
   "source": [
    "# Inversting the sentiments produces incorrect output\n",
    "\n",
    "model  = 'ai21.j2-ultra'\n",
    "prompt = \"\"\"\n",
    "This is awesome! // Negative\n",
    "This is bad! // Positive\n",
    "Wow that movie was rad! // Negative\n",
    "What a horrible show! //\n",
    "\"\"\"\n",
    "\n",
    "output = invoke_model(client=bedrock, prompt=prompt, model=model)\n",
    "print(output)"
   ]
  },
  {
   "cell_type": "code",
   "execution_count": 28,
   "id": "db8d700f-38b1-42d8-bc5f-1e5ba45f749f",
   "metadata": {},
   "outputs": [
    {
     "name": "stdout",
     "output_type": "stream",
     "text": [
      "This is amazing! // Positive => Negative\n"
     ]
    }
   ],
   "source": [
    "# Let’s improve the prompt by adding the intermediate reasoning steps. \n",
    "# Now all model knows we want to first infer the sentiment from the sentence then flip it to the opposite.\n",
    "\n",
    "model  = 'ai21.j2-ultra'\n",
    "prompt = \"\"\"\n",
    "This is awesome! // Positive => Negative\n",
    "This is bad! // Negative => Positive\n",
    "Wow that movie was rad! // Positive => Negative\n",
    "What a horrible show! //\n",
    "\"\"\"\n",
    "\n",
    "output = invoke_model(client=bedrock, prompt=prompt, model=model)\n",
    "print(output)"
   ]
  },
  {
   "cell_type": "code",
   "execution_count": null,
   "id": "403c0e1a-54a0-44e8-ac0d-6eb31255f96c",
   "metadata": {},
   "outputs": [],
   "source": []
  },
  {
   "cell_type": "code",
   "execution_count": null,
   "id": "985794d8-07b0-409e-9ffb-19ad58f89351",
   "metadata": {},
   "outputs": [],
   "source": []
  }
 ],
 "metadata": {
  "kernelspec": {
   "display_name": "Python 3 (ipykernel)",
   "language": "python",
   "name": "python3"
  },
  "language_info": {
   "codemirror_mode": {
    "name": "ipython",
    "version": 3
   },
   "file_extension": ".py",
   "mimetype": "text/x-python",
   "name": "python",
   "nbconvert_exporter": "python",
   "pygments_lexer": "ipython3",
   "version": "3.10.14"
  }
 },
 "nbformat": 4,
 "nbformat_minor": 5
}
