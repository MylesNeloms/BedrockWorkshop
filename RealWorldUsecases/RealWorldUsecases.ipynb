{
 "cells": [
  {
   "cell_type": "code",
   "execution_count": 10,
   "id": "9cf3a43a-5ae1-44c5-a87e-c51b9b05320c",
   "metadata": {},
   "outputs": [],
   "source": [
    "# Defining emmbedding function\n",
    "def get_embedding(bedrock, text):\n",
    "    modelId = 'amazon.titan-embed-text-v1'\n",
    "    accept = 'application/json'\n",
    "    contentType = 'application/json'\n",
    "    input = {\n",
    "            'inputText': text\n",
    "        }\n",
    "    body=json.dumps(input)\n",
    "    response = bedrock.invoke_model(\n",
    "        body=body, modelId=modelId, accept=accept,contentType=contentType)\n",
    "    response_body = json.loads(response.get('body').read())\n",
    "    embedding = response_body['embedding']\n",
    "    return embedding\n",
    "\n",
    "# Euclidean distance func\n",
    "def calculate_distance(v1, v2):\n",
    "    distance = math.dist(v1, v2)\n",
    "    return distance"
   ]
  },
  {
   "cell_type": "code",
   "execution_count": 12,
   "id": "fb228559-468a-4c94-bbc6-5b6e23dca25c",
   "metadata": {},
   "outputs": [
    {
     "name": "stdout",
     "output_type": "stream",
     "text": [
      "\n",
      "Every particle attracts every other particle in the universe with a force that is proportional to the product of their masses and inversely proportional to the square of the distance between their centers.\n",
      "\n"
     ]
    }
   ],
   "source": [
    "# Search and Recommendation\n",
    "# Let’s assume that you have a collection of documents (the data set). Each document is represented by its embedding. \n",
    "# You have been given a query string. The ask is to identify the document that is most relevant to the query string.\n",
    "# You can achieve this with the following steps:\n",
    "#     1.Represent the query string with its embedding.\n",
    "#     2.Calculate the Euclidean distance between the query string and all documents in the data set.\n",
    "#     3.Sort the distances in ascending order.\n",
    "#     4.The document with the smallest distance is most relevant to the query string.\n",
    "\n",
    "import boto3\n",
    "import json\n",
    "import math\n",
    "\n",
    "def search(dataset, v):\n",
    "    for item in dataset:\n",
    "        item['distance'] = calculate_distance(item['embedding'], v)\n",
    "    dataset.sort(key=lambda x: x['distance'])\n",
    "    return dataset[0]['text']\n",
    "    \n",
    "# main function\n",
    "bedrock = boto3.client(\n",
    "    service_name='bedrock-runtime'\n",
    ")\n",
    "# the data set\n",
    "t1 = \"\"\"\n",
    "The theory of general relativity says that the observed gravitational effect between masses results from their warping of spacetime. \n",
    "\"\"\"\n",
    "t2 = \"\"\"\n",
    "Quantum mechanics allows the calculation of properties and behaviour of physical systems. It is typically applied to microscopic systems: molecules, atoms and sub-atomic particles. \n",
    "\"\"\"\n",
    "t3 = \"\"\"\n",
    "Wavelet theory is essentially the continuous-time theory that corresponds to dyadic subband transforms — i.e., those where the L (LL) subband is recursively split over and over.\n",
    "\"\"\"\n",
    "t4 = \"\"\"\n",
    "Every particle attracts every other particle in the universe with a force that is proportional to the product of their masses and inversely proportional to the square of the distance between their centers.\n",
    "\"\"\"\n",
    "t5 = \"\"\"\n",
    "The electromagnetic spectrum is the range of frequencies (the spectrum) of electromagnetic radiation and their respective wavelengths and photon energies. \n",
    "\"\"\"\n",
    "dataset = [\n",
    "    {'text': t1, 'embedding': get_embedding(bedrock, t1)}, \n",
    "    {'text': t2, 'embedding': get_embedding(bedrock, t2)}, \n",
    "    {'text': t3, 'embedding': get_embedding(bedrock, t3)}, \n",
    "    {'text': t4, 'embedding': get_embedding(bedrock, t4)}, \n",
    "    {'text': t5, 'embedding': get_embedding(bedrock, t5)}\n",
    "]\n",
    "# perform a search for Albert Einstein\n",
    "query = 'Isaac Newton'\n",
    "v = get_embedding(bedrock, query)              \n",
    "result = search(dataset, v)\n",
    "print(result)"
   ]
  },
  {
   "cell_type": "code",
   "execution_count": 13,
   "id": "24d2aba7-7207-4f2a-b2d2-911f08de1aff",
   "metadata": {},
   "outputs": [
    {
     "name": "stdout",
     "output_type": "stream",
     "text": [
      "magician\n"
     ]
    }
   ],
   "source": [
    "# Classification\n",
    "\n",
    "# Let’s assume that you have a collection of documents (the data set) and you would like to classify them into N classes (labels).\n",
    "# Each class has a label name along with a short description. \n",
    "# You can achieve this with the following steps:\n",
    "\n",
    "#     1.Represent each class with the embedding of the label name and description.\n",
    "#     2.For a given document, calculate the Euclidean distance between the document and all classes.\n",
    "#     3.Classify the document into the class with the shortest distance.\n",
    "\n",
    "def classify(classes, v):\n",
    "    for item in classes:\n",
    "        item['distance'] = calculate_distance(item['embedding'], v)\n",
    "    classes.sort(key=lambda x: x['distance'])\n",
    "    return classes[0]['name']\n",
    "    \n",
    "# main function\n",
    "bedrock = boto3.client(\n",
    "    service_name='bedrock-runtime'\n",
    ")\n",
    "# the data set\n",
    "classes = [    \n",
    "    {'name': 'athletics', 'description': 'all students with a talent in sports'}, \n",
    "    {'name': 'musician', 'description': 'all students with a talent in music'}, \n",
    "    {'name': 'magician', 'description': 'all students with a talent in witch craft'}\n",
    "]\n",
    "for item in classes:\n",
    "    item['embedding'] = get_embedding(bedrock, item['description'])\n",
    "# perform a classification\n",
    "query = 'Ellison sends a spell to prevent Professor Wang from entering the classroom'\n",
    "v = get_embedding(bedrock, query)\n",
    "result = classify(classes, v)\n",
    "print(result)\n",
    "\n"
   ]
  },
  {
   "cell_type": "code",
   "execution_count": 14,
   "id": "a2957fd2-9987-4894-b8fd-bf97dd4ca17d",
   "metadata": {},
   "outputs": [
    {
     "name": "stdout",
     "output_type": "stream",
     "text": [
      "    cluster              names\n",
      "0         1    Albert Einstein\n",
      "1         0          Bob Dylan\n",
      "2         0      Elvis Presley\n",
      "3         1       Isaac Newton\n",
      "4         0    Michael Jackson\n",
      "5         1         Niels Bohr\n",
      "6         0       Taylor Swift\n",
      "7         0      Hank Williams\n",
      "8         1  Werner Heisenberg\n",
      "9         0      Stevie Wonder\n",
      "10        1        Marie Curie\n",
      "11        1  Ernest Rutherford\n"
     ]
    }
   ],
   "source": [
    "# Clustering (grouping)\n",
    "\n",
    "import numpy as np\n",
    "import pandas as pd\n",
    "from sklearn.cluster import KMeans\n",
    "\n",
    "def get_embedding(bedrock, text):\n",
    "    modelId = 'amazon.titan-embed-text-v1'\n",
    "    accept = 'application/json'\n",
    "    contentType = 'application/json'\n",
    "    input = {\n",
    "            'inputText': text\n",
    "        }\n",
    "    body=json.dumps(input)\n",
    "    response = bedrock.invoke_model(\n",
    "        body=body, modelId=modelId, accept=accept,contentType=contentType)\n",
    "    response_body = json.loads(response.get('body').read())\n",
    "    embedding = response_body['embedding']\n",
    "    return embedding\n",
    "\n",
    "# main function\n",
    "bedrock = boto3.client(\n",
    "    service_name='bedrock-runtime'\n",
    ")\n",
    "names = ['Albert Einstein', 'Bob Dylan', 'Elvis Presley', \n",
    "         'Isaac Newton', 'Michael Jackson', 'Niels Bohr', \n",
    "         'Taylor Swift', 'Hank Williams', 'Werner Heisenberg', \n",
    "         'Stevie Wonder', 'Marie Curie', 'Ernest Rutherford']\n",
    "embeddings = []\n",
    "for name in names:\n",
    "    embeddings.append(get_embedding(bedrock, name))\n",
    "# clustering\n",
    "df = pd.DataFrame(data={'names': names, 'embeddings': embeddings})\n",
    "matrix = np.vstack(df.embeddings.values)\n",
    "n_clusters = 2\n",
    "kmeans = KMeans(n_clusters = n_clusters, init='k-means++', random_state=42)\n",
    "kmeans.fit(matrix)\n",
    "df['cluster'] = kmeans.labels_\n",
    "# result\n",
    "print(df[['cluster', 'names']])\n"
   ]
  },
  {
   "cell_type": "code",
   "execution_count": 15,
   "id": "ee58cc7b-2a29-47ee-b2b6-56f32d845d47",
   "metadata": {},
   "outputs": [
    {
     "data": {
      "image/png": "[encoded data removed]",
      "text/plain": [
       "<Figure size 640x480 with 1 Axes>"
      ]
     },
     "metadata": {},
     "output_type": "display_data"
    }
   ],
   "source": [
    "import seaborn as sns\n",
    "import matplotlib.pyplot as plt\n",
    "from sklearn.manifold import TSNE\n",
    "\n",
    "# Reduce number of dimensions from 1536 to 2\n",
    "tsne = TSNE(random_state=0, n_iter=1000, perplexity=6)\n",
    "tsne_results = tsne.fit_transform(np.array(df['embeddings'].to_list(), dtype=np.float32))\n",
    "# Add the results to dataframe as a new column\n",
    "df['tsne1'] = tsne_results[:, 0]\n",
    "df['tsne2'] = tsne_results[:, 1]\n",
    "\n",
    "# Plot the data and annotate the result\n",
    "fig, ax = plt.subplots()\n",
    "ax.set_title('Embeddings')\n",
    "sns.scatterplot(data=df, x='tsne1', y='tsne2', hue='cluster', ax=ax)\n",
    "for idx, row in df.iterrows():\n",
    "    ax.text(row['tsne1'], row['tsne2'], row['names'], fontsize=6.5, horizontalalignment='center')\n",
    "\n",
    "plt.show()\n"
   ]
  },
  {
   "cell_type": "code",
   "execution_count": 16,
   "id": "7719b9e5-be91-4c8a-b155-b22e231851e8",
   "metadata": {},
   "outputs": [
    {
     "name": "stdout",
     "output_type": "stream",
     "text": [
      "Taylor Swift\n",
      "Lady Gaga\n"
     ]
    }
   ],
   "source": [
    "# Anomaly Detection\n",
    "\n",
    "def find_outliers_by_count(dataset, count):\n",
    "    # find the center of mass\n",
    "    embeddings = []\n",
    "    for item in dataset:\n",
    "        embeddings.append(item['embedding'])\n",
    "    center = np.mean(embeddings, axis=0)\n",
    "    # calculate distance from center\n",
    "    for item in dataset:\n",
    "        item['distance'] = calculate_distance(item['embedding'], center)\n",
    "    # sort the distances in reverse order\n",
    "    dataset.sort(key=lambda x: x['distance'], reverse=True)\n",
    "    # return N outliers\n",
    "    return dataset[0:count]\n",
    "\n",
    "# main function\n",
    "bedrock = boto3.client(\n",
    "    service_name='bedrock-runtime'\n",
    ")\n",
    "names = ['Albert Einstein', 'Isaac Newton', 'Stephen Hawking', \n",
    "         'Galileo Galilei', 'Niels Bohr', 'Werner Heisenberg', \n",
    "         'Marie Curie', 'Ernest Rutherford', 'Michael Faraday', \n",
    "         'Richard Feynman', 'Lady Gaga', 'Erwin Schrödinger', \n",
    "         'Max Planck', 'Enrico Fermi', 'Taylor Swift', 'Lord Kelvin']\n",
    "dataset = []\n",
    "for name in names:\n",
    "    embedding = get_embedding(bedrock, name)\n",
    "    dataset.append({'name': name, 'embedding': embedding})\n",
    "outliers = find_outliers_by_count(dataset, 2)\n",
    "for item in outliers:\n",
    "    print(item['name'])\n"
   ]
  },
  {
   "cell_type": "code",
   "execution_count": 20,
   "id": "c1d96ef9-6fae-4338-b537-507d73662157",
   "metadata": {},
   "outputs": [
    {
     "name": "stdout",
     "output_type": "stream",
     "text": [
      "Taylor Swift\n",
      "Lady Gaga\n"
     ]
    }
   ],
   "source": [
    "# identify outliers by the percentage of max distance\n",
    "\n",
    "def find_outliers_by_distance(dataset, percent):\n",
    "    # find the center of mass\n",
    "    embeddings = []\n",
    "    for item in dataset:\n",
    "        embeddings.append(item['embedding'])\n",
    "    center = np.mean(embeddings, axis=0)\n",
    "    # calculate distance from center\n",
    "    for item in dataset:\n",
    "        item['distance'] = calculate_distance(item['embedding'], center)\n",
    "    # sort the distances in reverse order\n",
    "    dataset.sort(key=lambda x: x['distance'], reverse=True)\n",
    "    # return outliers beyond x% of max distance\n",
    "    max_distance = dataset[0]['distance']\n",
    "    min_distance = percent * max_distance / 100\n",
    "    outliers = []\n",
    "    for item in dataset:\n",
    "        if item['distance'] >= min_distance:\n",
    "            outliers.append(item)\n",
    "    return outliers\n",
    "\n",
    "# change the main function to use find_outliers_by_distance()\n",
    "entries = find_outliers_by_distance(dataset, 80)\n",
    "for item in entries:\n",
    "    print(item['name'])"
   ]
  },
  {
   "cell_type": "code",
   "execution_count": null,
   "id": "fb97238b-44b8-41c6-8f09-e516fcebc18d",
   "metadata": {},
   "outputs": [],
   "source": []
  }
 ],
 "metadata": {
  "kernelspec": {
   "display_name": "Python 3 (ipykernel)",
   "language": "python",
   "name": "python3"
  },
  "language_info": {
   "codemirror_mode": {
    "name": "ipython",
    "version": 3
   },
   "file_extension": ".py",
   "mimetype": "text/x-python",
   "name": "python",
   "nbconvert_exporter": "python",
   "pygments_lexer": "ipython3",
   "version": "3.10.14"
  }
 },
 "nbformat": 4,
 "nbformat_minor": 5
}
