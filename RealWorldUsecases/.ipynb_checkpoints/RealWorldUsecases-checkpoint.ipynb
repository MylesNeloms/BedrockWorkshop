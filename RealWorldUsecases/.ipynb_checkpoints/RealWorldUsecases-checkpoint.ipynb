{
 "cells": [
  {
   "cell_type": "code",
   "execution_count": 10,
   "id": "9cf3a43a-5ae1-44c5-a87e-c51b9b05320c",
   "metadata": {},
   "outputs": [],
   "source": [
    "# Defining emmbedding function\n",
    "def get_embedding(bedrock, text):\n",
    "    modelId = 'amazon.titan-embed-text-v1'\n",
    "    accept = 'application/json'\n",
    "    contentType = 'application/json'\n",
    "    input = {\n",
    "            'inputText': text\n",
    "        }\n",
    "    body=json.dumps(input)\n",
    "    response = bedrock.invoke_model(\n",
    "        body=body, modelId=modelId, accept=accept,contentType=contentType)\n",
    "    response_body = json.loads(response.get('body').read())\n",
    "    embedding = response_body['embedding']\n",
    "    return embedding\n",
    "\n",
    "# Euclidean distance func\n",
    "def calculate_distance(v1, v2):\n",
    "    distance = math.dist(v1, v2)\n",
    "    return distance"
   ]
  },
  {
   "cell_type": "code",
   "execution_count": 11,
   "id": "fb228559-468a-4c94-bbc6-5b6e23dca25c",
   "metadata": {},
   "outputs": [
    {
     "ename": "NameError",
     "evalue": "name 'math' is not defined",
     "output_type": "error",
     "traceback": [
      "\u001b[0;31m---------------------------------------------------------------------------\u001b[0m",
      "\u001b[0;31mNameError\u001b[0m                                 Traceback (most recent call last)",
      "Cell \u001b[0;32mIn[11], line 49\u001b[0m\n\u001b[1;32m     47\u001b[0m query \u001b[38;5;241m=\u001b[39m \u001b[38;5;124m'\u001b[39m\u001b[38;5;124mIsaac Newton\u001b[39m\u001b[38;5;124m'\u001b[39m\n\u001b[1;32m     48\u001b[0m v \u001b[38;5;241m=\u001b[39m get_embedding(bedrock, query)              \n\u001b[0;32m---> 49\u001b[0m result \u001b[38;5;241m=\u001b[39m \u001b[43msearch\u001b[49m\u001b[43m(\u001b[49m\u001b[43mdataset\u001b[49m\u001b[43m,\u001b[49m\u001b[43m \u001b[49m\u001b[43mv\u001b[49m\u001b[43m)\u001b[49m\n\u001b[1;32m     50\u001b[0m \u001b[38;5;28mprint\u001b[39m(result)\n",
      "Cell \u001b[0;32mIn[11], line 15\u001b[0m, in \u001b[0;36msearch\u001b[0;34m(dataset, v)\u001b[0m\n\u001b[1;32m     13\u001b[0m \u001b[38;5;28;01mdef\u001b[39;00m \u001b[38;5;21msearch\u001b[39m(dataset, v):\n\u001b[1;32m     14\u001b[0m     \u001b[38;5;28;01mfor\u001b[39;00m item \u001b[38;5;129;01min\u001b[39;00m dataset:\n\u001b[0;32m---> 15\u001b[0m         item[\u001b[38;5;124m'\u001b[39m\u001b[38;5;124mdistance\u001b[39m\u001b[38;5;124m'\u001b[39m] \u001b[38;5;241m=\u001b[39m \u001b[43mcalculate_distance\u001b[49m\u001b[43m(\u001b[49m\u001b[43mitem\u001b[49m\u001b[43m[\u001b[49m\u001b[38;5;124;43m'\u001b[39;49m\u001b[38;5;124;43membedding\u001b[39;49m\u001b[38;5;124;43m'\u001b[39;49m\u001b[43m]\u001b[49m\u001b[43m,\u001b[49m\u001b[43m \u001b[49m\u001b[43mv\u001b[49m\u001b[43m)\u001b[49m\n\u001b[1;32m     16\u001b[0m     dataset\u001b[38;5;241m.\u001b[39msort(key\u001b[38;5;241m=\u001b[39m\u001b[38;5;28;01mlambda\u001b[39;00m x: x[\u001b[38;5;124m'\u001b[39m\u001b[38;5;124mdistance\u001b[39m\u001b[38;5;124m'\u001b[39m])\n\u001b[1;32m     17\u001b[0m     \u001b[38;5;28;01mreturn\u001b[39;00m dataset[\u001b[38;5;241m0\u001b[39m][\u001b[38;5;124m'\u001b[39m\u001b[38;5;124mtext\u001b[39m\u001b[38;5;124m'\u001b[39m]\n",
      "Cell \u001b[0;32mIn[10], line 18\u001b[0m, in \u001b[0;36mcalculate_distance\u001b[0;34m(v1, v2)\u001b[0m\n\u001b[1;32m     17\u001b[0m \u001b[38;5;28;01mdef\u001b[39;00m \u001b[38;5;21mcalculate_distance\u001b[39m(v1, v2):\n\u001b[0;32m---> 18\u001b[0m     distance \u001b[38;5;241m=\u001b[39m \u001b[43mmath\u001b[49m\u001b[38;5;241m.\u001b[39mdist(v1, v2)\n\u001b[1;32m     19\u001b[0m     \u001b[38;5;28;01mreturn\u001b[39;00m distance\n",
      "\u001b[0;31mNameError\u001b[0m: name 'math' is not defined"
     ]
    }
   ],
   "source": [
    "# Search and Recommendation\n",
    "# Let’s assume that you have a collection of documents (the data set). Each document is represented by its embedding. \n",
    "# You have been given a query string. The ask is to identify the document that is most relevant to the query string.\n",
    "# You can achieve this with the following steps:\n",
    "#     1.Represent the query string with its embedding.\n",
    "#     2.Calculate the Euclidean distance between the query string and all documents in the data set.\n",
    "#     3.Sort the distances in ascending order.\n",
    "#     4.The document with the smallest distance is most relevant to the query string.\n",
    "\n",
    "import boto3\n",
    "import json\n",
    "import math\n",
    "\n",
    "def search(dataset, v):\n",
    "    for item in dataset:\n",
    "        item['distance'] = calculate_distance(item['embedding'], v)\n",
    "    dataset.sort(key=lambda x: x['distance'])\n",
    "    return dataset[0]['text']\n",
    "    \n",
    "# main function\n",
    "bedrock = boto3.client(\n",
    "    service_name='bedrock-runtime'\n",
    ")\n",
    "# the data set\n",
    "t1 = \"\"\"\n",
    "The theory of general relativity says that the observed gravitational effect between masses results from their warping of spacetime. \n",
    "\"\"\"\n",
    "t2 = \"\"\"\n",
    "Quantum mechanics allows the calculation of properties and behaviour of physical systems. It is typically applied to microscopic systems: molecules, atoms and sub-atomic particles. \n",
    "\"\"\"\n",
    "t3 = \"\"\"\n",
    "Wavelet theory is essentially the continuous-time theory that corresponds to dyadic subband transforms — i.e., those where the L (LL) subband is recursively split over and over.\n",
    "\"\"\"\n",
    "t4 = \"\"\"\n",
    "Every particle attracts every other particle in the universe with a force that is proportional to the product of their masses and inversely proportional to the square of the distance between their centers.\n",
    "\"\"\"\n",
    "t5 = \"\"\"\n",
    "The electromagnetic spectrum is the range of frequencies (the spectrum) of electromagnetic radiation and their respective wavelengths and photon energies. \n",
    "\"\"\"\n",
    "dataset = [\n",
    "    {'text': t1, 'embedding': get_embedding(bedrock, t1)}, \n",
    "    {'text': t2, 'embedding': get_embedding(bedrock, t2)}, \n",
    "    {'text': t3, 'embedding': get_embedding(bedrock, t3)}, \n",
    "    {'text': t4, 'embedding': get_embedding(bedrock, t4)}, \n",
    "    {'text': t5, 'embedding': get_embedding(bedrock, t5)}\n",
    "]\n",
    "# perform a search for Albert Einstein\n",
    "query = 'Isaac Newton'\n",
    "v = get_embedding(bedrock, query)              \n",
    "result = search(dataset, v)\n",
    "print(result)"
   ]
  },
  {
   "cell_type": "code",
   "execution_count": null,
   "id": "24d2aba7-7207-4f2a-b2d2-911f08de1aff",
   "metadata": {},
   "outputs": [],
   "source": []
  }
 ],
 "metadata": {
  "kernelspec": {
   "display_name": "Python 3 (ipykernel)",
   "language": "python",
   "name": "python3"
  },
  "language_info": {
   "codemirror_mode": {
    "name": "ipython",
    "version": 3
   },
   "file_extension": ".py",
   "mimetype": "text/x-python",
   "name": "python",
   "nbconvert_exporter": "python",
   "pygments_lexer": "ipython3",
   "version": "3.10.14"
  }
 },
 "nbformat": 4,
 "nbformat_minor": 5
}
