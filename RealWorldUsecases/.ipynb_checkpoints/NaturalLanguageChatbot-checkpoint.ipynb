{
 "cells": [
  {
   "cell_type": "code",
   "execution_count": 3,
   "id": "7869f99b-1ee9-48b1-a95a-56aed6dd1c9e",
   "metadata": {},
   "outputs": [],
   "source": [
    "region = 'us-west-2'\n",
    "host = 'https://b19fa6b2rsx72rc9osh8.us-west-2.aoss.amazonaws.com'"
   ]
  },
  {
   "cell_type": "code",
   "execution_count": null,
   "id": "2184e2ad-bf83-4391-9125-d66b1fc0a9da",
   "metadata": {},
   "outputs": [
    {
     "ename": "NameError",
     "evalue": "name 'host' is not defined",
     "output_type": "error",
     "traceback": [
      "\u001b[0;31m---------------------------------------------------------------------------\u001b[0m",
      "\u001b[0;31mNameError\u001b[0m                                 Traceback (most recent call last)",
      "Cell \u001b[0;32mIn[2], line 29\u001b[0m\n\u001b[1;32m     27\u001b[0m index \u001b[38;5;241m=\u001b[39m \u001b[38;5;124m'\u001b[39m\u001b[38;5;124mdemo-index\u001b[39m\u001b[38;5;124m'\u001b[39m\n\u001b[1;32m     28\u001b[0m datatype \u001b[38;5;241m=\u001b[39m \u001b[38;5;124m'\u001b[39m\u001b[38;5;124m_doc\u001b[39m\u001b[38;5;124m'\u001b[39m\n\u001b[0;32m---> 29\u001b[0m url \u001b[38;5;241m=\u001b[39m \u001b[43mhost\u001b[49m \u001b[38;5;241m+\u001b[39m \u001b[38;5;124m'\u001b[39m\u001b[38;5;124m/\u001b[39m\u001b[38;5;124m'\u001b[39m \u001b[38;5;241m+\u001b[39m index \u001b[38;5;241m+\u001b[39m \u001b[38;5;124m'\u001b[39m\u001b[38;5;124m/\u001b[39m\u001b[38;5;124m'\u001b[39m \u001b[38;5;241m+\u001b[39m datatype\n\u001b[1;32m     30\u001b[0m headers \u001b[38;5;241m=\u001b[39m {\u001b[38;5;124m'\u001b[39m\u001b[38;5;124mContent-Type\u001b[39m\u001b[38;5;124m'\u001b[39m: \u001b[38;5;124m'\u001b[39m\u001b[38;5;124mapplication/json\u001b[39m\u001b[38;5;124m'\u001b[39m}\n\u001b[1;32m     31\u001b[0m bedrock \u001b[38;5;241m=\u001b[39m boto3\u001b[38;5;241m.\u001b[39mclient(service_name\u001b[38;5;241m=\u001b[39m\u001b[38;5;124m'\u001b[39m\u001b[38;5;124mbedrock-runtime\u001b[39m\u001b[38;5;124m'\u001b[39m)\n",
      "\u001b[0;31mNameError\u001b[0m: name 'host' is not defined"
     ]
    }
   ],
   "source": [
    "# Knowledge Base --> A knowledge base is a database that contains information about\n",
    "# a product, a service, a topic, or a knowledge domain. \n",
    "\n",
    "import boto3\n",
    "import json\n",
    "import requests\n",
    "from requests_aws4auth import AWS4Auth\n",
    "\n",
    "def get_embedding(bedrock, text):\n",
    "    modelId = 'amazon.titan-embed-text-v1'\n",
    "    accept = 'application/json'\n",
    "    contentType = 'application/json'\n",
    "    input = {\n",
    "            'inputText': text\n",
    "        }\n",
    "    body=json.dumps(input)\n",
    "    response = bedrock.invoke_model(\n",
    "        body=body, modelId=modelId, accept=accept,contentType=contentType)\n",
    "    response_body = json.loads(response.get('body').read())\n",
    "    embedding = response_body['embedding']\n",
    "    return embedding\n",
    "    \n",
    "# main function\n",
    "service = 'aoss'\n",
    "credentials = boto3.Session().get_credentials()\n",
    "awsauth = AWS4Auth(credentials.access_key, credentials.secret_key, region, service, session_token=credentials.token)\n",
    "index = 'demo-index'\n",
    "datatype = '_doc'\n",
    "url = host + '/' + index + '/' + datatype\n",
    "headers = {'Content-Type': 'application/json'}\n",
    "bedrock = boto3.client(service_name='bedrock-runtime')\n",
    "dataset = {\n",
    "    'The theory of general relativity says that the observed gravitational effect between masses results from their warping of spacetime.',\n",
    "    'Quantum mechanics allows the calculation of properties and behaviour of physical systems. It is typically applied to microscopic systems: molecules, atoms and sub-atomic particles.', \n",
    "    'Wavelet theory is essentially the continuous-time theory that corresponds to dyadic subband transforms — i.e., those where the L (LL) subband is recursively split over and over.',\n",
    "    'Every particle attracts every other particle in the universe with a force that is proportional to the product of their masses and inversely proportional to the square of the distance between their centers.',\n",
    "    'The electromagnetic spectrum is the range of frequencies (the spectrum) of electromagnetic radiation and their respective wavelengths and photon energies.'\n",
    "}\n",
    "for entry in dataset:\n",
    "    embedding = get_embedding(bedrock, entry)\n",
    "    document = {\n",
    "        'embedding': embedding,\n",
    "        'content': entry\n",
    "    }\n",
    "    response = requests.post(url, auth=awsauth, json=document, headers=headers)"
   ]
  },
  {
   "cell_type": "code",
   "execution_count": null,
   "id": "6334d209-d759-4363-9ae6-d943c0aaa7d4",
   "metadata": {},
   "outputs": [],
   "source": []
  }
 ],
 "metadata": {
  "kernelspec": {
   "display_name": "Python 3 (ipykernel)",
   "language": "python",
   "name": "python3"
  },
  "language_info": {
   "codemirror_mode": {
    "name": "ipython",
    "version": 3
   },
   "file_extension": ".py",
   "mimetype": "text/x-python",
   "name": "python",
   "nbconvert_exporter": "python",
   "pygments_lexer": "ipython3",
   "version": "3.10.14"
  }
 },
 "nbformat": 4,
 "nbformat_minor": 5
}
