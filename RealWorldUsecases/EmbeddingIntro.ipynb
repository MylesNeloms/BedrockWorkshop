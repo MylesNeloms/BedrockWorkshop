{
 "cells": [
  {
   "cell_type": "code",
   "execution_count": 2,
   "id": "f879ae43-ad4f-4e7b-87b8-18da58e1c385",
   "metadata": {},
   "outputs": [
    {
     "name": "stdout",
     "output_type": "stream",
     "text": [
      "1536\n"
     ]
    }
   ],
   "source": [
    "# The academic definition of embedding is translating high-dimensional vectors into a relatively low-dimensional space. \n",
    "# You might know each and every word in this sentence but still have no idea about the whole sentence. \n",
    "# We can think of embedding as converting natural language into a sequence of numbers, \n",
    "# with the input being a piece of text and the output being a vector.\n",
    "\n",
    "import json\n",
    "import boto3\n",
    "\n",
    "bedrock = boto3.client(\n",
    "    service_name='bedrock-runtime'\n",
    ")\n",
    "\n",
    "modelId = 'amazon.titan-embed-text-v1'\n",
    "accept = 'application/json'\n",
    "contentType = 'application/json'\n",
    "prompt = \"\"\"\n",
    "hello\n",
    "\"\"\"\n",
    "input = {\n",
    "        'inputText': prompt\n",
    "    }\n",
    "body=json.dumps(input)\n",
    "response = bedrock.invoke_model(\n",
    "    body=body, modelId=modelId, accept=accept,contentType=contentType)\n",
    "response_body = json.loads(response.get('body').read())\n",
    "embedding = response_body['embedding']\n",
    "# print(embedding)\n",
    "size = len(embedding)\n",
    "print(size)\n"
   ]
  },
  {
   "cell_type": "code",
   "execution_count": 7,
   "id": "d3688946-cc7f-44c7-a82a-87fe62134dff",
   "metadata": {},
   "outputs": [
    {
     "name": "stdout",
     "output_type": "stream",
     "text": [
      "9.094554322587365\n",
      "23.33325186409251\n",
      "15.699801139590388\n",
      "20.948954281263347\n",
      "24.261418207910705\n",
      "25.30846242351385\n",
      "29.69741947688189\n",
      "26.700609050941793\n"
     ]
    }
   ],
   "source": [
    "# Euclidean Distance\n",
    "\n",
    "import math\n",
    "\n",
    "def get_embedding(bedrock, text):\n",
    "    modelId = 'amazon.titan-embed-text-v1'\n",
    "    accept = 'application/json'\n",
    "    contentType = 'application/json'\n",
    "    input = {\n",
    "            'inputText': text\n",
    "        }\n",
    "    body=json.dumps(input)\n",
    "    response = bedrock.invoke_model(\n",
    "        body=body, modelId=modelId, accept=accept,contentType=contentType)\n",
    "    response_body = json.loads(response.get('body').read())\n",
    "    embedding = response_body['embedding']\n",
    "    return embedding\n",
    "\n",
    "def calculate_distance(v1, v2):\n",
    "    distance = math.dist(v1, v2)\n",
    "    return distance\n",
    "\n",
    "hello = get_embedding(bedrock, 'hello')\n",
    "texts = [\n",
    "    'hi',\n",
    "    'good day',\n",
    "    'greetings',\n",
    "    'how are you',\n",
    "    'what is your name',\n",
    "    \"let's go shopping\",\n",
    "    'what is general relativity',\n",
    "    'she sells sea shells on the sea shore'\n",
    "]\n",
    "for text in texts:\n",
    "    embedding = get_embedding(bedrock, text)\n",
    "    distance = calculate_distance(hello, embedding)\n",
    "    print(distance)\n"
   ]
  },
  {
   "cell_type": "code",
   "execution_count": 8,
   "id": "0112fdce-4225-455c-ae1c-8617901ff97f",
   "metadata": {},
   "outputs": [
    {
     "name": "stdout",
     "output_type": "stream",
     "text": [
      "245.3465466016232\n"
     ]
    }
   ],
   "source": [
    "# Dot Product Similarity. Increase === more similar\n",
    "\n",
    "\n",
    "from numpy import dot\n",
    "from numpy.linalg import norm\n",
    "\n",
    "def get_embedding(bedrock, text):\n",
    "    modelId = 'amazon.titan-embed-text-v1'\n",
    "    accept = 'application/json'\n",
    "    contentType = 'application/json'\n",
    "    input = {\n",
    "            'inputText': text\n",
    "        }\n",
    "    body=json.dumps(input)\n",
    "    response = bedrock.invoke_model(\n",
    "        body=body, modelId=modelId, accept=accept,contentType=contentType)\n",
    "    response_body = json.loads(response.get('body').read())\n",
    "    embedding = response_body['embedding']\n",
    "    return embedding\n",
    "\n",
    "def calculate_dot_product_similarity(v1, v2):\n",
    "    similarity = dot(v1, v2)\n",
    "    return similarity\n",
    "\n",
    "# main function\n",
    "bedrock = boto3.client(\n",
    "    service_name='bedrock-runtime'\n",
    ")\n",
    "text1 = 'hello'\n",
    "text2 = 'good day'\n",
    "v1 = get_embedding(bedrock, text1)\n",
    "v2 = get_embedding(bedrock, text2)\n",
    "similarity = calculate_dot_product_similarity(v1, v2)\n",
    "print(similarity)\n"
   ]
  },
  {
   "cell_type": "code",
   "execution_count": 9,
   "id": "3bde7711-693b-4fa2-aa8e-e53d1cea0b52",
   "metadata": {},
   "outputs": [
    {
     "name": "stdout",
     "output_type": "stream",
     "text": [
      "523.4078294500584\n",
      "245.3465466016232\n",
      "328.5758089531838\n",
      "218.5153600999188\n",
      "173.35412997474873\n",
      "127.174288252552\n",
      "69.75002899099037\n",
      "94.28087665222931\n"
     ]
    }
   ],
   "source": [
    "# main function\n",
    "bedrock = boto3.client(\n",
    "    service_name='bedrock-runtime'\n",
    ")\n",
    "hello = get_embedding(bedrock, 'hello')\n",
    "texts = [\n",
    "    'hi',\n",
    "    'good day',\n",
    "    'greetings',\n",
    "    'how are you',\n",
    "    'what is your name',\n",
    "    \"let's go shopping\",\n",
    "    'what is general relativity',\n",
    "    'she sells sea shells on the sea shore'\n",
    "]\n",
    "for text in texts:\n",
    "    embedding = get_embedding(bedrock, text)\n",
    "    similarity = calculate_dot_product_similarity(hello, embedding)\n",
    "    print(similarity)\n",
    "\n"
   ]
  },
  {
   "cell_type": "code",
   "execution_count": 10,
   "id": "4eff0d06-7cf0-4253-a5f3-b9ed89817ddd",
   "metadata": {},
   "outputs": [
    {
     "name": "stdout",
     "output_type": "stream",
     "text": [
      "0.47547669109839213\n"
     ]
    }
   ],
   "source": [
    "# Cosine Similarity (dot product of the vectors divided by the product of their lengths)\n",
    "\n",
    "def get_embedding(bedrock, text):\n",
    "    modelId = 'amazon.titan-embed-text-v1'\n",
    "    accept = 'application/json'\n",
    "    contentType = 'application/json'\n",
    "    input = {\n",
    "            'inputText': text\n",
    "        }\n",
    "    body=json.dumps(input)\n",
    "    response = bedrock.invoke_model(\n",
    "        body=body, modelId=modelId, accept=accept,contentType=contentType)\n",
    "    response_body = json.loads(response.get('body').read())\n",
    "    embedding = response_body['embedding']\n",
    "    return embedding\n",
    "\n",
    "def calculate_cousin_similarity(v1, v2):\n",
    "    similarity = dot(v1, v2)/(norm(v1)*norm(v2))\n",
    "    return similarity\n",
    "\n",
    "# main function\n",
    "bedrock = boto3.client(\n",
    "    service_name='bedrock-runtime'\n",
    ")\n",
    "text1 = 'hello'\n",
    "text2 = 'good day'\n",
    "v1 = get_embedding(bedrock, text1)\n",
    "v2 = get_embedding(bedrock, text2)\n",
    "similarity = calculate_cousin_similarity(v1, v2)\n",
    "print(similarity)\n"
   ]
  },
  {
   "cell_type": "code",
   "execution_count": 11,
   "id": "4eace464-be37-47ff-8955-75068ad9af70",
   "metadata": {},
   "outputs": [
    {
     "name": "stdout",
     "output_type": "stream",
     "text": [
      "0.9268443924716357\n",
      "0.47547669109839213\n",
      "0.7481008999511818\n",
      "0.5187598232110757\n",
      "0.3777644972419649\n",
      "0.29329218796125756\n",
      "0.13715628607522645\n",
      "0.21532926299725408\n"
     ]
    }
   ],
   "source": [
    "hello = get_embedding(bedrock, 'hello')\n",
    "texts = [\n",
    "    'hi',\n",
    "    'good day',\n",
    "    'greetings',\n",
    "    'how are you',\n",
    "    'what is your name',\n",
    "    \"let's go shopping\",\n",
    "    'what is general relativity',\n",
    "    'she sells sea shells on the sea shore'\n",
    "]\n",
    "for text in texts:\n",
    "    embedding = get_embedding(bedrock, text)\n",
    "    similarity = calculate_cousin_similarity(hello, embedding)\n",
    "    print(similarity)\n"
   ]
  },
  {
   "cell_type": "code",
   "execution_count": null,
   "id": "c8436d35-24aa-47c0-afa9-7701e24faa0b",
   "metadata": {},
   "outputs": [],
   "source": []
  }
 ],
 "metadata": {
  "kernelspec": {
   "display_name": "Python 3 (ipykernel)",
   "language": "python",
   "name": "python3"
  },
  "language_info": {
   "codemirror_mode": {
    "name": "ipython",
    "version": 3
   },
   "file_extension": ".py",
   "mimetype": "text/x-python",
   "name": "python",
   "nbconvert_exporter": "python",
   "pygments_lexer": "ipython3",
   "version": "3.10.14"
  }
 },
 "nbformat": 4,
 "nbformat_minor": 5
}
